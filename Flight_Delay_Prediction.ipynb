{
  "cells": [
    {
      "cell_type": "markdown",
      "source": [
        "# Flight Delay Prediction:\n",
        "- This is flight data from various flight routes and we need to predict the delay in flights using pyspark.\n",
        "- We used many spark libraries like ML, Streaming & Graphframes.\n",
        "- We followed the whole journey from getting the data, cleaning it, modelling and evaluation.\n",
        "- This was a limited time task so we prioritized the main deliverables which are:\n",
        "  - Predict the delay category using any <b>Classifier</b> of your choice.\n",
        "  - All your steps should be in a pipeline.\n",
        "  - You should obtain at least <b>0.5 f1-score</b> and <b>0.6 accuracy</b>."
      ],
      "metadata": {
        "id": "PbXyfjmCcvrK"
      },
      "id": "PbXyfjmCcvrK"
    },
    {
      "cell_type": "markdown",
      "source": [
        "## Environment Preparation for Colab :"
      ],
      "metadata": {
        "id": "meC-IS7qtTTa"
      },
      "id": "meC-IS7qtTTa"
    },
    {
      "cell_type": "code",
      "source": [
        "!pip install pyspark"
      ],
      "metadata": {
        "colab": {
          "base_uri": "https://localhost:8080/"
        },
        "id": "qyVmAcJZ-VGn",
        "outputId": "d4859da0-ec1e-459e-c4bd-1fdfb84d84e7"
      },
      "id": "qyVmAcJZ-VGn",
      "execution_count": null,
      "outputs": [
        {
          "output_type": "stream",
          "name": "stdout",
          "text": [
            "Collecting pyspark\n",
            "  Downloading pyspark-3.5.1.tar.gz (317.0 MB)\n",
            "\u001b[2K     \u001b[90m━━━━━━━━━━━━━━━━━━━━━━━━━━━━━━━━━━━━━━━━\u001b[0m \u001b[32m317.0/317.0 MB\u001b[0m \u001b[31m1.6 MB/s\u001b[0m eta \u001b[36m0:00:00\u001b[0m\n",
            "\u001b[?25h  Preparing metadata (setup.py) ... \u001b[?25l\u001b[?25hdone\n",
            "Requirement already satisfied: py4j==0.10.9.7 in /usr/local/lib/python3.10/dist-packages (from pyspark) (0.10.9.7)\n",
            "Building wheels for collected packages: pyspark\n",
            "  Building wheel for pyspark (setup.py) ... \u001b[?25l\u001b[?25hdone\n",
            "  Created wheel for pyspark: filename=pyspark-3.5.1-py2.py3-none-any.whl size=317488491 sha256=557157915f774a66ded1446abc433f6df621ba7aaa5d53033441cd4ee9c38cf8\n",
            "  Stored in directory: /root/.cache/pip/wheels/80/1d/60/2c256ed38dddce2fdd93be545214a63e02fbd8d74fb0b7f3a6\n",
            "Successfully built pyspark\n",
            "Installing collected packages: pyspark\n",
            "Successfully installed pyspark-3.5.1\n"
          ]
        }
      ]
    },
    {
      "cell_type": "code",
      "source": [
        "!apt-get install openjdk-11-jdk-headless -qq > /dev/null\n",
        "!wget -q https://bitbucket.org/habedi/datasets/raw/b6769c4664e7ff68b001e2f43bc517888cbe3642/spark/spark-3.0.2-bin-hadoop2.7.tgz\n",
        "!tar xf spark-3.0.2-bin-hadoop2.7.tgz\n",
        "!rm -rf spark-3.0.2-bin-hadoop2.7.tgz*\n",
        "!pip -q install findspark pyspark graphframes"
      ],
      "metadata": {
        "colab": {
          "base_uri": "https://localhost:8080/"
        },
        "id": "_W-yT0Kn-VUk",
        "outputId": "72c0f267-0a8f-415f-80da-0880b82c191d"
      },
      "id": "_W-yT0Kn-VUk",
      "execution_count": null,
      "outputs": [
        {
          "output_type": "stream",
          "name": "stdout",
          "text": [
            "\u001b[?25l     \u001b[90m━━━━━━━━━━━━━━━━━━━━━━━━━━━━━━━━━━━━━━━━\u001b[0m \u001b[32m0.0/154.7 kB\u001b[0m \u001b[31m?\u001b[0m eta \u001b[36m-:--:--\u001b[0m\r\u001b[2K     \u001b[91m━━━━━━━━━━━━━━━━━━━━━━━━━━━━━━━━━━━━━━━\u001b[0m\u001b[91m╸\u001b[0m \u001b[32m153.6/154.7 kB\u001b[0m \u001b[31m5.5 MB/s\u001b[0m eta \u001b[36m0:00:01\u001b[0m\r\u001b[2K     \u001b[90m━━━━━━━━━━━━━━━━━━━━━━━━━━━━━━━━━━━━━━━━\u001b[0m \u001b[32m154.7/154.7 kB\u001b[0m \u001b[31m4.0 MB/s\u001b[0m eta \u001b[36m0:00:00\u001b[0m\n",
            "\u001b[?25h"
          ]
        }
      ]
    },
    {
      "cell_type": "code",
      "source": [
        "!wget https://repos.spark-packages.org/graphframes/graphframes/0.8.2-spark3.0-s_2.12/graphframes-0.8.2-spark3.0-s_2.12.jar -P /content/spark-3.0.2-bin-hadoop2.7/jars/\n",
        "!cp /content/spark-3.0.2-bin-hadoop2.7/jars/graphframes-0.8.2-spark3.0-s_2.12.jar /content/spark-3.0.2-bin-hadoop2.7/graphframes-0.8.2-spark3.0-s_2.12.zip"
      ],
      "metadata": {
        "colab": {
          "base_uri": "https://localhost:8080/"
        },
        "id": "bQB6BJva-VXi",
        "outputId": "3fdcff70-dc09-4739-a93c-029f533c8ec2"
      },
      "id": "bQB6BJva-VXi",
      "execution_count": null,
      "outputs": [
        {
          "output_type": "stream",
          "name": "stdout",
          "text": [
            "--2024-07-13 07:27:37--  https://repos.spark-packages.org/graphframes/graphframes/0.8.2-spark3.0-s_2.12/graphframes-0.8.2-spark3.0-s_2.12.jar\n",
            "Resolving repos.spark-packages.org (repos.spark-packages.org)... 13.35.166.78, 13.35.166.111, 13.35.166.66, ...\n",
            "Connecting to repos.spark-packages.org (repos.spark-packages.org)|13.35.166.78|:443... connected.\n",
            "HTTP request sent, awaiting response... 200 OK\n",
            "Length: 247882 (242K) [binary/octet-stream]\n",
            "Saving to: ‘/content/spark-3.0.2-bin-hadoop2.7/jars/graphframes-0.8.2-spark3.0-s_2.12.jar’\n",
            "\n",
            "graphframes-0.8.2-s 100%[===================>] 242.07K   590KB/s    in 0.4s    \n",
            "\n",
            "2024-07-13 07:27:38 (590 KB/s) - ‘/content/spark-3.0.2-bin-hadoop2.7/jars/graphframes-0.8.2-spark3.0-s_2.12.jar’ saved [247882/247882]\n",
            "\n"
          ]
        }
      ]
    },
    {
      "cell_type": "code",
      "source": [
        "import os\n",
        "\n",
        "os.environ[\"JAVA_HOME\"] = \"/usr/lib/jvm/java-11-openjdk-amd64\"\n",
        "os.environ[\"SPARK_HOME\"] = \"/content/spark-3.0.2-bin-hadoop2.7\"\n",
        "os.environ[\"HADOOP_HOME\"] = os.environ[\"SPARK_HOME\"]\n",
        "\n",
        "os.environ[\"PYSPARK_DRIVER_PYTHON\"] = \"jupyter\"\n",
        "os.environ[\"PYSPARK_DRIVER_PYTHON_OPTS\"] = \"notebook\"\n",
        "os.environ[\"PYSPARK_SUBMIT_ARGS\"] = \"--master local[*] pyspark-shell\""
      ],
      "metadata": {
        "id": "GW4xzqtp-VaL"
      },
      "id": "GW4xzqtp-VaL",
      "execution_count": null,
      "outputs": []
    },
    {
      "cell_type": "code",
      "source": [
        "import findspark\n",
        "findspark.init()"
      ],
      "metadata": {
        "id": "J5c528vd-nhm"
      },
      "id": "J5c528vd-nhm",
      "execution_count": null,
      "outputs": []
    },
    {
      "cell_type": "code",
      "source": [
        "!export PYSPARK_SUBMIT_ARGS=\"--master local[*] pyspark-shell\"\n",
        "!export PYSPARK_DRIVER_PYTHON=jupyter\n",
        "!export PYSPARK_DRIVER_PYTHON_OPTS=notebook"
      ],
      "metadata": {
        "id": "TwqoVYK1-nfA"
      },
      "id": "TwqoVYK1-nfA",
      "execution_count": null,
      "outputs": []
    },
    {
      "cell_type": "code",
      "source": [
        "from pyspark.sql import SparkSession\n",
        "from graphframes import *\n",
        "\n",
        "spark = SparkSession.builder.master(\"local[*]\").appName(\"GraphFrames\").getOrCreate()"
      ],
      "metadata": {
        "id": "4N0L556G-nc2"
      },
      "id": "4N0L556G-nc2",
      "execution_count": null,
      "outputs": []
    },
    {
      "cell_type": "code",
      "source": [
        "os.environ[\"PYSPARK_SUBMIT_ARGS\"] = \"--packages graphframes:graphframes:0.8.1-spark3.0-s_2.12 pyspark-shell\""
      ],
      "metadata": {
        "id": "EugVwGbc-VdL"
      },
      "id": "EugVwGbc-VdL",
      "execution_count": null,
      "outputs": []
    },
    {
      "cell_type": "code",
      "source": [
        "from IPython.display import display, HTML\n",
        "display(HTML(\"<style>pre { white-space: pre !important; }</style>\"))"
      ],
      "metadata": {
        "colab": {
          "base_uri": "https://localhost:8080/",
          "height": 17
        },
        "id": "sVH1GanY-3Xw",
        "outputId": "5f612fbe-c916-4e35-9f0d-4bec0ba0c42d"
      },
      "id": "sVH1GanY-3Xw",
      "execution_count": null,
      "outputs": [
        {
          "output_type": "display_data",
          "data": {
            "text/plain": [
              "<IPython.core.display.HTML object>"
            ],
            "text/html": [
              "<style>pre { white-space: pre !important; }</style>"
            ]
          },
          "metadata": {}
        }
      ]
    },
    {
      "cell_type": "markdown",
      "id": "0075711f",
      "metadata": {
        "id": "0075711f"
      },
      "source": [
        "## Streaming & GraphFrames:\n",
        "- The data you have contains two dataframes one for graphframe vertices and the other for graphframe edges.  \n",
        "- Define schemas one for each folder of the provided data <b>VertFinalExam</b> and <b>EdgesFinalExam</b>                              \n",
        "- Create two emply folders that you will use as a streaming reading sources.\n",
        "- Create a streaming reader to read streaming data from the reading sources\n",
        "\n",
        "- For the streaming Edges dataframe create a new column to indicate delay categories as follow:\n",
        "    - Early: for early delays (-ve delay values).\n",
        "    - Late: for delayed flights (+ve delay values).\n",
        "    - OnTime: for on time flights (0 delay values).\n",
        "- For the streaming Vertices dataframe remove all rows that contain state as an emplty string <b>state=\"\"</b>.\n",
        "\n",
        "- Create a writer for the final streaming Edges dataframe to write the streaming data in writing sink in a parquet fromat.\n",
        "- Create a writer for the final streaming Vertices dataframe to write the streaming data in writing sink in a parquet fromat.\n",
        "- Start a query for the Edges writer.\n",
        "- Start a query for the Vertices writer.\n",
        "- Read the vertices and edges data from the writing sink directory into static dataframes.\n",
        "- Create a <b>GraphFrame</b> from these data.\n",
        "- Apply <b>PageRank</b> algorithm to find the most <b>10</b> important Vertices. Order the results based on the rank in descending order.\n",
        "\n",
        "## Machine Learning:\n",
        "- Using the Edges dataframe you used for GraphFrame creation in the previous part:\n",
        "- Convert the three dealy categories of the Edges dataframe into integers (0,1,2).\n",
        "\n"
      ]
    },
    {
      "cell_type": "markdown",
      "source": [
        "# Streaming :"
      ],
      "metadata": {
        "id": "kaJWBjRts9qk"
      },
      "id": "kaJWBjRts9qk"
    },
    {
      "cell_type": "code",
      "source": [
        "df1 = spark.read.parquet(\"/content/MyFirstFolder/part-00000-18c44c6d-af85-42a2-924c-bb789e03af2d-c000.snappy.parquet\")\n",
        "df1.show()"
      ],
      "metadata": {
        "colab": {
          "base_uri": "https://localhost:8080/"
        },
        "id": "O3dp5pkNBSTs",
        "outputId": "1d522c09-f117-4df4-9df7-a8d69be9f07e"
      },
      "id": "O3dp5pkNBSTs",
      "execution_count": null,
      "outputs": [
        {
          "output_type": "stream",
          "name": "stdout",
          "text": [
            "+-------+-----+--------+---+---+\n",
            "| tripid|delay|distance|src|dst|\n",
            "+-------+-----+--------+---+---+\n",
            "|1011245|    6|     602|ABE|ATL|\n",
            "|1020600|   -8|     369|ABE|DTW|\n",
            "|1021245|   -2|     602|ABE|ATL|\n",
            "|1020605|   -4|     602|ABE|ATL|\n",
            "|1031245|   -4|     602|ABE|ATL|\n",
            "|1030605|    0|     602|ABE|ATL|\n",
            "|1041243|   10|     602|ABE|ATL|\n",
            "|1040605|   28|     602|ABE|ATL|\n",
            "|1051245|   88|     602|ABE|ATL|\n",
            "|1050605|    9|     602|ABE|ATL|\n",
            "|1061215|   -6|     602|ABE|ATL|\n",
            "|1061725|   69|     602|ABE|ATL|\n",
            "|1061230|    0|     369|ABE|DTW|\n",
            "|1060625|   -3|     602|ABE|ATL|\n",
            "|1070600|    0|     369|ABE|DTW|\n",
            "|1071725|    0|     602|ABE|ATL|\n",
            "|1071230|    0|     369|ABE|DTW|\n",
            "|1070625|    0|     602|ABE|ATL|\n",
            "|1071219|    0|     569|ABE|ORD|\n",
            "|1080600|    0|     369|ABE|DTW|\n",
            "+-------+-----+--------+---+---+\n",
            "only showing top 20 rows\n",
            "\n"
          ]
        }
      ]
    },
    {
      "cell_type": "code",
      "source": [
        "from pyspark.sql.types import StructType, StructField, IntegerType, StringType\n",
        "\n",
        "df1_schema = StructType([\n",
        "    StructField(\"tripid\", IntegerType(), nullable=False),\n",
        "    StructField(\"delay\", IntegerType()),\n",
        "    StructField(\"distance\", IntegerType()),\n",
        "    StructField(\"src\", StringType()),\n",
        "    StructField(\"dst\", StringType())\n",
        "    ])"
      ],
      "metadata": {
        "id": "OTi16EORBSQ3"
      },
      "id": "OTi16EORBSQ3",
      "execution_count": null,
      "outputs": []
    },
    {
      "cell_type": "code",
      "source": [
        "df2 = spark.read.parquet(\"/content/MySecondFolder/part-00000-5eaa8c57-c4ec-45df-bb39-7524d02b9e78-c000.snappy.parquet\")\n",
        "df2.show()"
      ],
      "metadata": {
        "colab": {
          "base_uri": "https://localhost:8080/"
        },
        "id": "34MApmLABSKL",
        "outputId": "10e92e9e-2079-4c05-ba4b-07ab0c266a03"
      },
      "id": "34MApmLABSKL",
      "execution_count": null,
      "outputs": [
        {
          "output_type": "stream",
          "name": "stdout",
          "text": [
            "+---+-------------+-----+-------+\n",
            "| id|         City|State|Country|\n",
            "+---+-------------+-----+-------+\n",
            "|ABE|    Allentown|   PA|    USA|\n",
            "|ABI|      Abilene|   TX|    USA|\n",
            "|ABQ|  Albuquerque|   NM|    USA|\n",
            "|ABR|     Aberdeen|   SD|    USA|\n",
            "|ABY|       Albany|   GA|    USA|\n",
            "|ACK|    Nantucket|   MA|    USA|\n",
            "|ACT|         Waco|   TX|    USA|\n",
            "|ACV|       Eureka|   CA|    USA|\n",
            "|ACY|Atlantic City|   NJ|    USA|\n",
            "|ADQ|       Kodiak|   AK|    USA|\n",
            "|AEX|   Alexandria|   LA|    USA|\n",
            "|AGS|      Augusta|   GA|    USA|\n",
            "|AHN|       Athens|   GA|    USA|\n",
            "|AIA|     Alliance|   NE|    USA|\n",
            "|AKN|  King Salmon|   AK|    USA|\n",
            "|ALB|       Albany|   NY|    USA|\n",
            "|ALO|     Waterloo|   IA|    USA|\n",
            "|ALS|      Alamosa|   CO|    USA|\n",
            "|ALW|  Walla Walla|   WA|    USA|\n",
            "|AMA|     Amarillo|   TX|    USA|\n",
            "+---+-------------+-----+-------+\n",
            "only showing top 20 rows\n",
            "\n"
          ]
        }
      ]
    },
    {
      "cell_type": "code",
      "source": [
        "df2_schema = StructType([\n",
        "    StructField(\"id\", StringType(), nullable=False),\n",
        "    StructField(\"City\", StringType()),\n",
        "    StructField(\"State\", StringType()),\n",
        "    StructField(\"Country\", StringType())\n",
        "])"
      ],
      "metadata": {
        "id": "6QLa0haqBSHN"
      },
      "id": "6QLa0haqBSHN",
      "execution_count": null,
      "outputs": []
    },
    {
      "cell_type": "code",
      "source": [
        "#Edges dataframe\n",
        "\n",
        "df1 = spark.readStream.option(\"header\", \"True\").schema(df1_schema).parquet(\"/content/MyFirstFolder\")"
      ],
      "metadata": {
        "id": "4Go2ogM6BSEk"
      },
      "id": "4Go2ogM6BSEk",
      "execution_count": null,
      "outputs": []
    },
    {
      "cell_type": "code",
      "source": [
        "#Vertices dataframe\n",
        "\n",
        "df2 = spark.readStream.option(\"header\", \"True\").schema(df2_schema).parquet(\"/content/MySecondFolder\")"
      ],
      "metadata": {
        "id": "fxuHAbAPBSB7"
      },
      "id": "fxuHAbAPBSB7",
      "execution_count": null,
      "outputs": []
    },
    {
      "cell_type": "markdown",
      "source": [
        "I know I should have to create a child dataframe from df1 containing the new column to make the most use of the spark impklementation. However, I am doing this for simplicity for the sake of the task and to not mix dataframes in my mind.\n",
        "\n",
        "I used the concept in the ML part below."
      ],
      "metadata": {
        "id": "NooZOwhVEczP"
      },
      "id": "NooZOwhVEczP"
    },
    {
      "cell_type": "code",
      "source": [
        "#Creating Delay column\n",
        "\n",
        "from pyspark.sql.functions import when, col\n",
        "\n",
        "df1 = df1.withColumn(\"Delay_Cat\",\n",
        "                  when(col(\"delay\") < 0, \"Early\")\n",
        "                  .when(col(\"delay\") > 0, \"Late\")\n",
        "                  .otherwise(\"OnTime\"))"
      ],
      "metadata": {
        "id": "evLxMtRGBR_s"
      },
      "id": "evLxMtRGBR_s",
      "execution_count": null,
      "outputs": []
    },
    {
      "cell_type": "code",
      "source": [
        "#Removing empty State\n",
        "\n",
        "df2 = df2.filter(df2.State != \"\")"
      ],
      "metadata": {
        "id": "YJTXQYtvBR9b"
      },
      "id": "YJTXQYtvBR9b",
      "execution_count": null,
      "outputs": []
    },
    {
      "cell_type": "code",
      "source": [
        "# write stream df1\n",
        "\n",
        "from pyspark.sql.functions import *\n",
        "from pyspark.sql.types import *\n",
        "\n",
        "w1 = df1.writeStream \\\n",
        "   .format(\"parquet\") \\\n",
        "   .option(\"checkpointLocation\",\"/content/chk1\") \\\n",
        "   .option(\"path\", \"/content/Out1\")"
      ],
      "metadata": {
        "id": "WH9zgmrtBR6-"
      },
      "id": "WH9zgmrtBR6-",
      "execution_count": null,
      "outputs": []
    },
    {
      "cell_type": "code",
      "source": [
        "w2 = df2.writeStream \\\n",
        "   .format(\"parquet\") \\\n",
        "   .option(\"checkpointLocation\",\"/content/chk2\") \\\n",
        "   .option(\"path\", \"/content/Out2\")"
      ],
      "metadata": {
        "id": "TLWwHxNtBR4V"
      },
      "id": "TLWwHxNtBR4V",
      "execution_count": null,
      "outputs": []
    },
    {
      "cell_type": "code",
      "source": [
        "df1.printSchema()"
      ],
      "metadata": {
        "colab": {
          "base_uri": "https://localhost:8080/"
        },
        "id": "0YS-AQJsBR2M",
        "outputId": "c8c79b70-ae2c-47cb-87a8-3bd1f2782fa0"
      },
      "id": "0YS-AQJsBR2M",
      "execution_count": null,
      "outputs": [
        {
          "output_type": "stream",
          "name": "stdout",
          "text": [
            "root\n",
            " |-- tripid: integer (nullable = true)\n",
            " |-- delay: integer (nullable = true)\n",
            " |-- distance: integer (nullable = true)\n",
            " |-- src: string (nullable = true)\n",
            " |-- dst: string (nullable = true)\n",
            " |-- Delay_Cat: string (nullable = false)\n",
            "\n"
          ]
        }
      ]
    },
    {
      "cell_type": "code",
      "source": [
        "q1 = w1.start()"
      ],
      "metadata": {
        "id": "1UA12FOWBRzt"
      },
      "id": "1UA12FOWBRzt",
      "execution_count": null,
      "outputs": []
    },
    {
      "cell_type": "code",
      "source": [
        "q1.stop()"
      ],
      "metadata": {
        "id": "t02VxCqSRLnc"
      },
      "id": "t02VxCqSRLnc",
      "execution_count": null,
      "outputs": []
    },
    {
      "cell_type": "code",
      "source": [
        "q2 = w2.start()"
      ],
      "metadata": {
        "id": "hjXp9x1pBRxH"
      },
      "id": "hjXp9x1pBRxH",
      "execution_count": null,
      "outputs": []
    },
    {
      "cell_type": "code",
      "source": [
        "q2.stop()"
      ],
      "metadata": {
        "id": "QOrhjt15BRu7"
      },
      "id": "QOrhjt15BRu7",
      "execution_count": null,
      "outputs": []
    },
    {
      "cell_type": "code",
      "source": [
        "# import shutil\n",
        "\n",
        "# shutil.rmtree(\"/content/chk1\")"
      ],
      "metadata": {
        "id": "B0N5GwDlBRsl"
      },
      "id": "B0N5GwDlBRsl",
      "execution_count": null,
      "outputs": []
    },
    {
      "cell_type": "markdown",
      "source": [
        "# GraphFrames :"
      ],
      "metadata": {
        "id": "YNc2PLittFxw"
      },
      "id": "YNc2PLittFxw"
    },
    {
      "cell_type": "code",
      "source": [
        "df1_schema1 = StructType([\n",
        "    StructField(\"tripid\", IntegerType(), nullable=False),\n",
        "    StructField(\"delay\", IntegerType()),\n",
        "    StructField(\"distance\", IntegerType()),\n",
        "    StructField(\"src\", StringType()),\n",
        "    StructField(\"dst\", StringType()),\n",
        "    StructField(\"Delay_Cat\", StringType())\n",
        "    ])"
      ],
      "metadata": {
        "id": "wJaTQk2qTo_D"
      },
      "id": "wJaTQk2qTo_D",
      "execution_count": null,
      "outputs": []
    },
    {
      "cell_type": "code",
      "source": [
        "E_df = spark.read.format(\"parquet\") \\\n",
        "    .schema(df1_schema1) \\\n",
        "    .load(\"/content/Out1\")"
      ],
      "metadata": {
        "id": "S8Si0yfvBRqF"
      },
      "id": "S8Si0yfvBRqF",
      "execution_count": null,
      "outputs": []
    },
    {
      "cell_type": "code",
      "source": [
        "E_df.show()"
      ],
      "metadata": {
        "colab": {
          "base_uri": "https://localhost:8080/"
        },
        "id": "sPg3WFe7BRnn",
        "outputId": "b17f40d1-6bbe-431d-f5a4-84979c5f8590"
      },
      "id": "sPg3WFe7BRnn",
      "execution_count": null,
      "outputs": [
        {
          "output_type": "stream",
          "name": "stdout",
          "text": [
            "+-------+-----+--------+---+---+---------+\n",
            "| tripid|delay|distance|src|dst|Delay_Cat|\n",
            "+-------+-----+--------+---+---+---------+\n",
            "|1010630|  -10|     928|RSW|EWR|    Early|\n",
            "|1021029|   87|     974|RSW|ORD|     Late|\n",
            "|1021346|    0|     928|RSW|EWR|   OnTime|\n",
            "|1021044|   18|     928|RSW|EWR|     Late|\n",
            "|1021730|   29|     748|RSW|IAH|     Late|\n",
            "|1020535|  605|     974|RSW|ORD|     Late|\n",
            "|1021820|   71|     974|RSW|ORD|     Late|\n",
            "|1021743|    0|     928|RSW|EWR|   OnTime|\n",
            "|1022017|    0|     928|RSW|EWR|   OnTime|\n",
            "|1020600|   -2|     748|RSW|IAH|    Early|\n",
            "|1021214|   29|     891|RSW|CLE|     Late|\n",
            "|1020630|   -5|     928|RSW|EWR|    Early|\n",
            "|1031029|   13|     974|RSW|ORD|     Late|\n",
            "|1031346|  279|     928|RSW|EWR|     Late|\n",
            "|1031740|   29|     748|RSW|IAH|     Late|\n",
            "|1030535|    0|     974|RSW|ORD|   OnTime|\n",
            "|1031808|   -3|     974|RSW|ORD|    Early|\n",
            "|1031516|   -2|    1396|RSW|DEN|    Early|\n",
            "|1032017|   14|     928|RSW|EWR|     Late|\n",
            "|1031214|   17|     891|RSW|CLE|     Late|\n",
            "+-------+-----+--------+---+---+---------+\n",
            "only showing top 20 rows\n",
            "\n"
          ]
        }
      ]
    },
    {
      "cell_type": "code",
      "source": [
        "V_df = spark.read.format(\"parquet\") \\\n",
        "    .schema(df2_schema) \\\n",
        "    .load(\"/content/Out2\")"
      ],
      "metadata": {
        "id": "wjWuyia6BRlV"
      },
      "id": "wjWuyia6BRlV",
      "execution_count": null,
      "outputs": []
    },
    {
      "cell_type": "code",
      "source": [
        "V_df.show()"
      ],
      "metadata": {
        "colab": {
          "base_uri": "https://localhost:8080/"
        },
        "id": "C5YqdppRBRi6",
        "outputId": "c2ab1c10-5140-4bb4-9b84-8c2b047e9280"
      },
      "id": "C5YqdppRBRi6",
      "execution_count": null,
      "outputs": [
        {
          "output_type": "stream",
          "name": "stdout",
          "text": [
            "+---+-------------+-----+-------+\n",
            "| id|         City|State|Country|\n",
            "+---+-------------+-----+-------+\n",
            "|ABE|    Allentown|   PA|    USA|\n",
            "|ABI|      Abilene|   TX|    USA|\n",
            "|ABQ|  Albuquerque|   NM|    USA|\n",
            "|ABR|     Aberdeen|   SD|    USA|\n",
            "|ABY|       Albany|   GA|    USA|\n",
            "|ACK|    Nantucket|   MA|    USA|\n",
            "|ACT|         Waco|   TX|    USA|\n",
            "|ACV|       Eureka|   CA|    USA|\n",
            "|ACY|Atlantic City|   NJ|    USA|\n",
            "|ADQ|       Kodiak|   AK|    USA|\n",
            "|AEX|   Alexandria|   LA|    USA|\n",
            "|AGS|      Augusta|   GA|    USA|\n",
            "|AHN|       Athens|   GA|    USA|\n",
            "|AIA|     Alliance|   NE|    USA|\n",
            "|AKN|  King Salmon|   AK|    USA|\n",
            "|ALB|       Albany|   NY|    USA|\n",
            "|ALO|     Waterloo|   IA|    USA|\n",
            "|ALS|      Alamosa|   CO|    USA|\n",
            "|ALW|  Walla Walla|   WA|    USA|\n",
            "|AMA|     Amarillo|   TX|    USA|\n",
            "+---+-------------+-----+-------+\n",
            "only showing top 20 rows\n",
            "\n"
          ]
        }
      ]
    },
    {
      "cell_type": "code",
      "source": [
        "gf = GraphFrame(V_df, E_df)"
      ],
      "metadata": {
        "id": "CB2VhupNUrZ_"
      },
      "id": "CB2VhupNUrZ_",
      "execution_count": null,
      "outputs": []
    },
    {
      "cell_type": "code",
      "source": [
        "gf.vertices.show()"
      ],
      "metadata": {
        "colab": {
          "base_uri": "https://localhost:8080/"
        },
        "id": "6lviIj9JUrXK",
        "outputId": "58dbf2d0-42dd-43d0-a21f-963e510b1709"
      },
      "id": "6lviIj9JUrXK",
      "execution_count": null,
      "outputs": [
        {
          "output_type": "stream",
          "name": "stdout",
          "text": [
            "+---+-------------+-----+-------+\n",
            "| id|         City|State|Country|\n",
            "+---+-------------+-----+-------+\n",
            "|ABE|    Allentown|   PA|    USA|\n",
            "|ABI|      Abilene|   TX|    USA|\n",
            "|ABQ|  Albuquerque|   NM|    USA|\n",
            "|ABR|     Aberdeen|   SD|    USA|\n",
            "|ABY|       Albany|   GA|    USA|\n",
            "|ACK|    Nantucket|   MA|    USA|\n",
            "|ACT|         Waco|   TX|    USA|\n",
            "|ACV|       Eureka|   CA|    USA|\n",
            "|ACY|Atlantic City|   NJ|    USA|\n",
            "|ADQ|       Kodiak|   AK|    USA|\n",
            "|AEX|   Alexandria|   LA|    USA|\n",
            "|AGS|      Augusta|   GA|    USA|\n",
            "|AHN|       Athens|   GA|    USA|\n",
            "|AIA|     Alliance|   NE|    USA|\n",
            "|AKN|  King Salmon|   AK|    USA|\n",
            "|ALB|       Albany|   NY|    USA|\n",
            "|ALO|     Waterloo|   IA|    USA|\n",
            "|ALS|      Alamosa|   CO|    USA|\n",
            "|ALW|  Walla Walla|   WA|    USA|\n",
            "|AMA|     Amarillo|   TX|    USA|\n",
            "+---+-------------+-----+-------+\n",
            "only showing top 20 rows\n",
            "\n"
          ]
        }
      ]
    },
    {
      "cell_type": "code",
      "source": [
        "gf.edges.show()"
      ],
      "metadata": {
        "colab": {
          "base_uri": "https://localhost:8080/"
        },
        "id": "q6vh6B5lUrUv",
        "outputId": "dd9dcb0f-87f6-4f65-ac04-673abc5f4dac"
      },
      "id": "q6vh6B5lUrUv",
      "execution_count": null,
      "outputs": [
        {
          "output_type": "stream",
          "name": "stdout",
          "text": [
            "+-------+-----+--------+---+---+---------+\n",
            "| tripid|delay|distance|src|dst|Delay_Cat|\n",
            "+-------+-----+--------+---+---+---------+\n",
            "|1010630|  -10|     928|RSW|EWR|    Early|\n",
            "|1021029|   87|     974|RSW|ORD|     Late|\n",
            "|1021346|    0|     928|RSW|EWR|   OnTime|\n",
            "|1021044|   18|     928|RSW|EWR|     Late|\n",
            "|1021730|   29|     748|RSW|IAH|     Late|\n",
            "|1020535|  605|     974|RSW|ORD|     Late|\n",
            "|1021820|   71|     974|RSW|ORD|     Late|\n",
            "|1021743|    0|     928|RSW|EWR|   OnTime|\n",
            "|1022017|    0|     928|RSW|EWR|   OnTime|\n",
            "|1020600|   -2|     748|RSW|IAH|    Early|\n",
            "|1021214|   29|     891|RSW|CLE|     Late|\n",
            "|1020630|   -5|     928|RSW|EWR|    Early|\n",
            "|1031029|   13|     974|RSW|ORD|     Late|\n",
            "|1031346|  279|     928|RSW|EWR|     Late|\n",
            "|1031740|   29|     748|RSW|IAH|     Late|\n",
            "|1030535|    0|     974|RSW|ORD|   OnTime|\n",
            "|1031808|   -3|     974|RSW|ORD|    Early|\n",
            "|1031516|   -2|    1396|RSW|DEN|    Early|\n",
            "|1032017|   14|     928|RSW|EWR|     Late|\n",
            "|1031214|   17|     891|RSW|CLE|     Late|\n",
            "+-------+-----+--------+---+---+---------+\n",
            "only showing top 20 rows\n",
            "\n"
          ]
        }
      ]
    },
    {
      "cell_type": "markdown",
      "source": [
        "## PageRank :"
      ],
      "metadata": {
        "id": "cTm2VulctLGk"
      },
      "id": "cTm2VulctLGk"
    },
    {
      "cell_type": "code",
      "source": [
        "pagerank = gf.pageRank(resetProbability=0.15, maxIter=5)\n",
        "\n",
        "top_vertices = pagerank.vertices.select(\"id\", \"pagerank\").orderBy(\"pagerank\", ascending=False).limit(10)"
      ],
      "metadata": {
        "id": "lCiR09VfUrMg"
      },
      "id": "lCiR09VfUrMg",
      "execution_count": null,
      "outputs": []
    },
    {
      "cell_type": "code",
      "source": [
        "top_vertices.show()"
      ],
      "metadata": {
        "colab": {
          "base_uri": "https://localhost:8080/"
        },
        "id": "NKupSrysUrJh",
        "outputId": "8a158d25-e72b-4496-913b-c4ba7c0193f4"
      },
      "id": "NKupSrysUrJh",
      "execution_count": null,
      "outputs": [
        {
          "output_type": "stream",
          "name": "stdout",
          "text": [
            "+---+------------------+\n",
            "| id|          pagerank|\n",
            "+---+------------------+\n",
            "|ATL|31.402169285067313|\n",
            "|DFW| 22.76415219751248|\n",
            "|ORD| 21.83241348762772|\n",
            "|DEN|16.026921025779515|\n",
            "|LAX|14.358865452635795|\n",
            "|IAH|13.229634347806075|\n",
            "|SFO|11.322517232690489|\n",
            "|PHX|10.852423159730376|\n",
            "|SLC| 9.622759351860472|\n",
            "|LAS| 8.778471071473987|\n",
            "+---+------------------+\n",
            "\n"
          ]
        }
      ]
    },
    {
      "cell_type": "markdown",
      "source": [
        "# Machine Learning :"
      ],
      "metadata": {
        "id": "4Nas37FSXvqf"
      },
      "id": "4Nas37FSXvqf"
    },
    {
      "cell_type": "markdown",
      "source": [
        "## Data Exploration :"
      ],
      "metadata": {
        "id": "qiEN0tWmr_S8"
      },
      "id": "qiEN0tWmr_S8"
    },
    {
      "cell_type": "code",
      "source": [
        "E_df_mapped = E_df.withColumn(\"Delay_Cat\",\n",
        "    when(col(\"Delay_Cat\") == \"Early\", 0)\n",
        "    .when(col(\"Delay_Cat\") == \"OnTime\", 1)\n",
        "    .otherwise(2))"
      ],
      "metadata": {
        "id": "7QpBn2mTUrGu"
      },
      "id": "7QpBn2mTUrGu",
      "execution_count": null,
      "outputs": []
    },
    {
      "cell_type": "code",
      "source": [
        "E_df_mapped.show()"
      ],
      "metadata": {
        "colab": {
          "base_uri": "https://localhost:8080/"
        },
        "id": "2sRPPVLzUrEO",
        "outputId": "4b3a38bd-c442-44c8-f9c4-2052ea73904c"
      },
      "id": "2sRPPVLzUrEO",
      "execution_count": null,
      "outputs": [
        {
          "output_type": "stream",
          "name": "stdout",
          "text": [
            "+-------+-----+--------+---+---+---------+\n",
            "| tripid|delay|distance|src|dst|Delay_Cat|\n",
            "+-------+-----+--------+---+---+---------+\n",
            "|1010630|  -10|     928|RSW|EWR|        0|\n",
            "|1021029|   87|     974|RSW|ORD|        2|\n",
            "|1021346|    0|     928|RSW|EWR|        1|\n",
            "|1021044|   18|     928|RSW|EWR|        2|\n",
            "|1021730|   29|     748|RSW|IAH|        2|\n",
            "|1020535|  605|     974|RSW|ORD|        2|\n",
            "|1021820|   71|     974|RSW|ORD|        2|\n",
            "|1021743|    0|     928|RSW|EWR|        1|\n",
            "|1022017|    0|     928|RSW|EWR|        1|\n",
            "|1020600|   -2|     748|RSW|IAH|        0|\n",
            "|1021214|   29|     891|RSW|CLE|        2|\n",
            "|1020630|   -5|     928|RSW|EWR|        0|\n",
            "|1031029|   13|     974|RSW|ORD|        2|\n",
            "|1031346|  279|     928|RSW|EWR|        2|\n",
            "|1031740|   29|     748|RSW|IAH|        2|\n",
            "|1030535|    0|     974|RSW|ORD|        1|\n",
            "|1031808|   -3|     974|RSW|ORD|        0|\n",
            "|1031516|   -2|    1396|RSW|DEN|        0|\n",
            "|1032017|   14|     928|RSW|EWR|        2|\n",
            "|1031214|   17|     891|RSW|CLE|        2|\n",
            "+-------+-----+--------+---+---+---------+\n",
            "only showing top 20 rows\n",
            "\n"
          ]
        }
      ]
    },
    {
      "cell_type": "code",
      "source": [
        "E_df_mapped.printSchema()"
      ],
      "metadata": {
        "colab": {
          "base_uri": "https://localhost:8080/"
        },
        "id": "7cxsDCzFUrCJ",
        "outputId": "5a5d0254-6ff3-437b-aa07-0980c6db1276"
      },
      "id": "7cxsDCzFUrCJ",
      "execution_count": null,
      "outputs": [
        {
          "output_type": "stream",
          "name": "stdout",
          "text": [
            "root\n",
            " |-- tripid: integer (nullable = false)\n",
            " |-- delay: integer (nullable = true)\n",
            " |-- distance: integer (nullable = true)\n",
            " |-- src: string (nullable = true)\n",
            " |-- dst: string (nullable = true)\n",
            " |-- Delay_Cat: integer (nullable = false)\n",
            "\n"
          ]
        }
      ]
    },
    {
      "cell_type": "code",
      "source": [
        "train_df, test_df = E_df_mapped.randomSplit([0.8,0.2],seed=42)"
      ],
      "metadata": {
        "id": "2vj44pmpUq_v"
      },
      "id": "2vj44pmpUq_v",
      "execution_count": null,
      "outputs": []
    },
    {
      "cell_type": "code",
      "source": [
        "summary = train_df.describe()"
      ],
      "metadata": {
        "id": "1BbimdlcdVET"
      },
      "id": "1BbimdlcdVET",
      "execution_count": null,
      "outputs": []
    },
    {
      "cell_type": "code",
      "source": [
        "summary.show()"
      ],
      "metadata": {
        "colab": {
          "base_uri": "https://localhost:8080/"
        },
        "id": "_ISNIkDgdVBl",
        "outputId": "c04f554c-220c-4bb1-db2b-3bf66e7c3e42"
      },
      "id": "_ISNIkDgdVBl",
      "execution_count": null,
      "outputs": [
        {
          "output_type": "stream",
          "name": "stdout",
          "text": [
            "+-------+-----------------+------------------+-----------------+-------+-------+------------------+\n",
            "|summary|           tripid|             delay|         distance|    src|    dst|         Delay_Cat|\n",
            "+-------+-----------------+------------------+-----------------+-------+-------+------------------+\n",
            "|  count|          1113550|           1113550|          1113550|1113550|1113550|           1113550|\n",
            "|   mean|2180905.310870639|12.076650352476314|690.4121808630057|   null|   null|0.9446392169188631|\n",
            "| stddev|838065.7442207639| 38.88248975964204|513.7984141939904|   null|   null|0.9501106881371156|\n",
            "|    min|          1010010|              -112|               21|    ABE|    ABE|                 0|\n",
            "|    max|          3312359|              1642|             4330|    YUM|    YUM|                 2|\n",
            "+-------+-----------------+------------------+-----------------+-------+-------+------------------+\n",
            "\n"
          ]
        }
      ]
    },
    {
      "cell_type": "markdown",
      "source": [
        "I did some more outlier checking here especially in the distance column. I didn't go very deep so I found no straight outliers. These cells were accidently removed while I was cleaning the notebook."
      ],
      "metadata": {
        "id": "7n07c89RsT-B"
      },
      "id": "7n07c89RsT-B"
    },
    {
      "cell_type": "markdown",
      "source": [
        "## Preparation for modelling :"
      ],
      "metadata": {
        "id": "-ohV-Um-rrJL"
      },
      "id": "-ohV-Um-rrJL"
    },
    {
      "cell_type": "code",
      "source": [
        "cat_cols = [col_name for col_name, col_type in E_df_mapped.dtypes if col_type == 'string']\n",
        "print(cat_cols)"
      ],
      "metadata": {
        "colab": {
          "base_uri": "https://localhost:8080/"
        },
        "id": "6LThMLIsdU-q",
        "outputId": "ca317461-cbcc-449a-c0f0-e02b69f4bff8"
      },
      "id": "6LThMLIsdU-q",
      "execution_count": null,
      "outputs": [
        {
          "output_type": "stream",
          "name": "stdout",
          "text": [
            "['src', 'dst']\n"
          ]
        }
      ]
    },
    {
      "cell_type": "code",
      "source": [
        "strIndOut = [k+'_Index' for k,v in E_df_mapped.dtypes if v=='string']"
      ],
      "metadata": {
        "id": "D2yxDMSidUvj"
      },
      "id": "D2yxDMSidUvj",
      "execution_count": null,
      "outputs": []
    },
    {
      "cell_type": "code",
      "source": [
        "strIndOut"
      ],
      "metadata": {
        "colab": {
          "base_uri": "https://localhost:8080/"
        },
        "id": "7mdD1sWHdUsy",
        "outputId": "45c9293d-47df-4ffa-90a8-47b2d80e7cc3"
      },
      "id": "7mdD1sWHdUsy",
      "execution_count": null,
      "outputs": [
        {
          "output_type": "execute_result",
          "data": {
            "text/plain": [
              "['src_Index', 'dst_Index']"
            ]
          },
          "metadata": {},
          "execution_count": 131
        }
      ]
    },
    {
      "cell_type": "code",
      "source": [
        "OHE_Out = [k+'_OHE' for k,v in E_df_mapped.dtypes if v=='string']\n",
        "OHE_Out"
      ],
      "metadata": {
        "colab": {
          "base_uri": "https://localhost:8080/"
        },
        "id": "YBkabaIMdUqU",
        "outputId": "d9ba06c4-2c18-4b25-b8b2-ea83a0c4670e"
      },
      "id": "YBkabaIMdUqU",
      "execution_count": null,
      "outputs": [
        {
          "output_type": "execute_result",
          "data": {
            "text/plain": [
              "['src_OHE', 'dst_OHE']"
            ]
          },
          "metadata": {},
          "execution_count": 132
        }
      ]
    },
    {
      "cell_type": "code",
      "source": [
        "num_cols = [k for k,v in E_df_mapped.dtypes if ((v=='int'))]\n",
        "num_cols"
      ],
      "metadata": {
        "colab": {
          "base_uri": "https://localhost:8080/"
        },
        "id": "yjbL14-KdUn5",
        "outputId": "8d899d54-f92d-484a-9360-958c45f90b25"
      },
      "id": "yjbL14-KdUn5",
      "execution_count": null,
      "outputs": [
        {
          "output_type": "execute_result",
          "data": {
            "text/plain": [
              "['tripid', 'delay', 'distance', 'Delay_Cat']"
            ]
          },
          "metadata": {},
          "execution_count": 137
        }
      ]
    },
    {
      "cell_type": "code",
      "source": [
        "num_cols = [col for col in num_cols if col != 'Delay_Cat']"
      ],
      "metadata": {
        "id": "DPJU9MwlhfFq"
      },
      "id": "DPJU9MwlhfFq",
      "execution_count": null,
      "outputs": []
    },
    {
      "cell_type": "code",
      "source": [
        "num_cols"
      ],
      "metadata": {
        "colab": {
          "base_uri": "https://localhost:8080/"
        },
        "id": "qhnJ-a7IhfCo",
        "outputId": "62b63525-f565-4619-c460-1fb6109d70a1"
      },
      "id": "qhnJ-a7IhfCo",
      "execution_count": null,
      "outputs": [
        {
          "output_type": "execute_result",
          "data": {
            "text/plain": [
              "['tripid', 'delay', 'distance']"
            ]
          },
          "metadata": {},
          "execution_count": 158
        }
      ]
    },
    {
      "cell_type": "code",
      "source": [
        "all_cols = num_cols + OHE_Out\n",
        "all_cols"
      ],
      "metadata": {
        "colab": {
          "base_uri": "https://localhost:8080/"
        },
        "id": "J5zRuiXbjLiT",
        "outputId": "d554813f-baca-48a1-ac86-04231b366f91"
      },
      "id": "J5zRuiXbjLiT",
      "execution_count": null,
      "outputs": [
        {
          "output_type": "execute_result",
          "data": {
            "text/plain": [
              "['tripid', 'delay', 'distance', 'src_OHE', 'dst_OHE']"
            ]
          },
          "metadata": {},
          "execution_count": 160
        }
      ]
    },
    {
      "cell_type": "markdown",
      "source": [
        "## Pipeline :"
      ],
      "metadata": {
        "id": "_CFA2alHrhFx"
      },
      "id": "_CFA2alHrhFx"
    },
    {
      "cell_type": "code",
      "source": [
        "from pyspark.ml import Pipeline\n",
        "from pyspark.ml.feature import *"
      ],
      "metadata": {
        "id": "2eyQpogphe_y"
      },
      "id": "2eyQpogphe_y",
      "execution_count": null,
      "outputs": []
    },
    {
      "cell_type": "code",
      "source": [
        "# Softmax Regression\n",
        "\n",
        "from pyspark.ml.classification import LogisticRegression\n",
        "\n",
        "log_r = LogisticRegression(maxIter=100, regParam=0.1, elasticNetParam=0.0, family='multinomial',\n",
        "                        featuresCol='features', labelCol='Delay_Cat', predictionCol='prediction')"
      ],
      "metadata": {
        "id": "sSn92V-yjn32"
      },
      "id": "sSn92V-yjn32",
      "execution_count": null,
      "outputs": []
    },
    {
      "cell_type": "code",
      "source": [
        "str_Ind = StringIndexer(inputCols=cat_cols,outputCols=strIndOut,handleInvalid='skip')"
      ],
      "metadata": {
        "id": "UM8NCojIhe9k"
      },
      "id": "UM8NCojIhe9k",
      "execution_count": null,
      "outputs": []
    },
    {
      "cell_type": "code",
      "source": [
        "OHE = OneHotEncoder(inputCols=strIndOut,outputCols=OHE_Out)"
      ],
      "metadata": {
        "id": "GLPG3LT5he7A"
      },
      "id": "GLPG3LT5he7A",
      "execution_count": null,
      "outputs": []
    },
    {
      "cell_type": "code",
      "source": [
        "vec_Asmb = VectorAssembler(inputCols=all_cols,outputCol='features')"
      ],
      "metadata": {
        "id": "B133yEpVhe44"
      },
      "id": "B133yEpVhe44",
      "execution_count": null,
      "outputs": []
    },
    {
      "cell_type": "code",
      "source": [
        "stages = [str_Ind,OHE,vec_Asmb,log_r]"
      ],
      "metadata": {
        "id": "s6Rhrrfphe2M"
      },
      "id": "s6Rhrrfphe2M",
      "execution_count": null,
      "outputs": []
    },
    {
      "cell_type": "code",
      "source": [
        "pl = Pipeline(stages=stages)"
      ],
      "metadata": {
        "id": "4-g2X0XadUlT"
      },
      "id": "4-g2X0XadUlT",
      "execution_count": null,
      "outputs": []
    },
    {
      "cell_type": "code",
      "source": [
        "model_pl = pl.fit(train_df)"
      ],
      "metadata": {
        "id": "8DB_vADOBRgs"
      },
      "id": "8DB_vADOBRgs",
      "execution_count": null,
      "outputs": []
    },
    {
      "cell_type": "markdown",
      "source": [
        "## Prediction :"
      ],
      "metadata": {
        "id": "s_lQkAgFrbvf"
      },
      "id": "s_lQkAgFrbvf"
    },
    {
      "cell_type": "code",
      "source": [
        "preds = model_pl.transform(test_df)"
      ],
      "metadata": {
        "id": "bQY2pv3AlHUe"
      },
      "id": "bQY2pv3AlHUe",
      "execution_count": null,
      "outputs": []
    },
    {
      "cell_type": "code",
      "source": [
        "preds.show()"
      ],
      "metadata": {
        "colab": {
          "base_uri": "https://localhost:8080/"
        },
        "id": "V5COHDeAlHQY",
        "outputId": "3574150e-7c5b-4382-c6db-7c49329a31a1"
      },
      "id": "V5COHDeAlHQY",
      "execution_count": null,
      "outputs": [
        {
          "output_type": "stream",
          "name": "stdout",
          "text": [
            "+-------+-----+--------+---+---+---------+---------+---------+-----------------+----------------+--------------------+--------------------+--------------------+----------+\n",
            "| tripid|delay|distance|src|dst|Delay_Cat|src_Index|dst_Index|          src_OHE|         dst_OHE|            features|       rawPrediction|         probability|prediction|\n",
            "+-------+-----+--------+---+---+---------+---------+---------+-----------------+----------------+--------------------+--------------------+--------------------+----------+\n",
            "|1010020|    0|    1273|SFO|DFW|        1|      7.0|      1.0|  (254,[7],[1.0])| (302,[1],[1.0])|(559,[0,2,10,258]...|[0.74557016749828...|[0.56724533174672...|       0.0|\n",
            "|1010154|   -7|    1397|SJU|EWR|        0|     49.0|     11.0| (254,[49],[1.0])|(302,[11],[1.0])|(559,[0,1,2,52,26...|[0.70689808610824...|[0.57100948098031...|       0.0|\n",
            "|1010344|   -7|    1455|SJU|BOS|        0|     49.0|     14.0| (254,[49],[1.0])|(302,[14],[1.0])|(559,[0,1,2,52,27...|[0.87895935635709...|[0.62214703734391...|       0.0|\n",
            "|1010500|   -1|    1038|SLC|IAH|        0|     12.0|      5.0| (254,[12],[1.0])| (302,[5],[1.0])|(559,[0,1,2,15,26...|[0.78344169721275...|[0.58043603475592...|       0.0|\n",
            "|1010525|    4|     316|SGF|DFW|        2|    106.0|      1.0|(254,[106],[1.0])| (302,[1],[1.0])|(559,[0,1,2,109,2...|[0.68595324706411...|[0.55776112299880...|       0.0|\n",
            "|1010535|    1|    2087|SEA|EWR|        2|     18.0|     11.0| (254,[18],[1.0])|(302,[11],[1.0])|(559,[0,1,2,21,26...|[0.49604779873111...|[0.48451020639004...|       0.0|\n",
            "|1010545|   -1|    1243|SMF|DFW|        0|     38.0|      1.0| (254,[38],[1.0])| (302,[1],[1.0])|(559,[0,1,2,41,25...|[0.71170955796373...|[0.55356022438248...|       0.0|\n",
            "|1010550|   90|     181|SYR|JFK|        2|    112.0|     15.0|(254,[112],[1.0])|(302,[15],[1.0])|(559,[0,1,2,115,2...|[-1.0149608052423...|[0.05006511109501...|       2.0|\n",
            "|1010600|   -6|     928|STL|MIA|        0|     31.0|     19.0| (254,[31],[1.0])|(302,[19],[1.0])|(559,[0,1,2,34,27...|[0.74063848924146...|[0.56861997536341...|       0.0|\n",
            "|1010600|   -6|    1288|SAT|SFO|        0|     44.0|      7.0| (254,[44],[1.0])| (302,[7],[1.0])|(559,[0,1,2,47,26...|[0.71593837985699...|[0.55361587351349...|       0.0|\n",
            "|1010600|   -5|     206|TUL|DFW|        0|     60.0|      1.0| (254,[60],[1.0])| (302,[1],[1.0])|(559,[0,1,2,63,25...|[0.92187391052492...|[0.64841049209723...|       0.0|\n",
            "|1010600|   -5|     478|SFO|PDX|        0|      7.0|     30.0|  (254,[7],[1.0])|(302,[30],[1.0])|(559,[0,1,2,10,28...|[0.86245536723015...|[0.61062619683095...|       0.0|\n",
            "|1010600|   -5|     509|TUL|ORD|        0|     60.0|      2.0| (254,[60],[1.0])| (302,[2],[1.0])|(559,[0,1,2,63,25...|[0.70283403792717...|[0.57624018139783...|       0.0|\n",
            "|1010600|   -3|    1259|SEA|ANC|        0|     18.0|     68.0| (254,[18],[1.0])|(302,[68],[1.0])|(559,[0,1,2,21,32...|[0.83682924200004...|[0.60106289931792...|       0.0|\n",
            "|1010600|    0|    1033|SJU|MCO|        1|     49.0|     10.0| (254,[49],[1.0])|(302,[10],[1.0])|(559,[0,2,52,267]...|[0.74254786490225...|[0.55011424887327...|       0.0|\n",
            "|1010601|   -2|     117|SMX|LAX|        0|    210.0|      3.0|(254,[210],[1.0])| (302,[3],[1.0])|(559,[0,1,2,213,2...|[1.12433380691860...|[0.69474143830179...|       0.0|\n",
            "|1010605|   -2|     583|SEA|OAK|        0|     18.0|     36.0| (254,[18],[1.0])|(302,[36],[1.0])|(559,[0,1,2,21,29...|[0.55824098998072...|[0.48628797243889...|       0.0|\n",
            "|1010615|    7|     741|SAN|DEN|        2|     23.0|      4.0| (254,[23],[1.0])| (302,[4],[1.0])|(559,[0,1,2,26,26...|[0.45767835868433...|[0.42934594488931...|       2.0|\n",
            "|1010620|   -3|    2246|SFO|MIA|        0|      7.0|     19.0|  (254,[7],[1.0])|(302,[19],[1.0])|(559,[0,1,2,10,27...|[0.79700521078948...|[0.58228016195735...|       0.0|\n",
            "|1010620|    2|    2108|SAN|EWR|        2|     23.0|     11.0| (254,[23],[1.0])|(302,[11],[1.0])|(559,[0,1,2,26,26...|[0.38714539279570...|[0.43505161153958...|       0.0|\n",
            "+-------+-----+--------+---+---+---------+---------+---------+-----------------+----------------+--------------------+--------------------+--------------------+----------+\n",
            "only showing top 20 rows\n",
            "\n"
          ]
        }
      ]
    },
    {
      "cell_type": "markdown",
      "source": [
        "## Model Evaluation :"
      ],
      "metadata": {
        "id": "RmIKaMAqrUqF"
      },
      "id": "RmIKaMAqrUqF"
    },
    {
      "cell_type": "code",
      "source": [
        "from pyspark.ml.evaluation import MulticlassClassificationEvaluator\n",
        "\n",
        "evaluator = MulticlassClassificationEvaluator(labelCol=\"Delay_Cat\", predictionCol=\"prediction\", metricName=\"f1\")\n",
        "f1_score = evaluator.evaluate(preds)\n",
        "\n",
        "evaluator = MulticlassClassificationEvaluator(labelCol=\"Delay_Cat\", predictionCol=\"prediction\", metricName=\"accuracy\")\n",
        "accuracy = evaluator.evaluate(preds)\n",
        "\n",
        "print(f\"F1 Score: {f1_score:.4f}\")\n",
        "print(f\"Accuracy: {accuracy:.4f}\")"
      ],
      "metadata": {
        "colab": {
          "base_uri": "https://localhost:8080/"
        },
        "id": "hMTtKTeblHLZ",
        "outputId": "a2c01b8e-62d7-406d-9286-823f2ec7e459"
      },
      "id": "hMTtKTeblHLZ",
      "execution_count": null,
      "outputs": [
        {
          "output_type": "stream",
          "name": "stdout",
          "text": [
            "F1 Score: 0.7201\n",
            "Accuracy: 0.7587\n"
          ]
        }
      ]
    },
    {
      "cell_type": "markdown",
      "source": [
        "##Further Work:\n",
        "\n",
        "- More data preparation and models exploration should be implemented to improve the score. However, this was out of scope given the time limit and the fact that the data takes long time to train.\n"
      ],
      "metadata": {
        "id": "b1kKVmGCbcsQ"
      },
      "id": "b1kKVmGCbcsQ"
    },
    {
      "cell_type": "code",
      "source": [],
      "metadata": {
        "id": "vEESrHyKik2f"
      },
      "id": "vEESrHyKik2f",
      "execution_count": null,
      "outputs": []
    }
  ],
  "metadata": {
    "kernelspec": {
      "display_name": "Python 3 (ipykernel)",
      "language": "python",
      "name": "python3"
    },
    "language_info": {
      "codemirror_mode": {
        "name": "ipython",
        "version": 3
      },
      "file_extension": ".py",
      "mimetype": "text/x-python",
      "name": "python",
      "nbconvert_exporter": "python",
      "pygments_lexer": "ipython3",
      "version": "3.11.4"
    },
    "colab": {
      "provenance": []
    }
  },
  "nbformat": 4,
  "nbformat_minor": 5
}